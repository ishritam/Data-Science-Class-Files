{
  "nbformat": 4,
  "nbformat_minor": 0,
  "metadata": {
    "colab": {
      "name": "Amazon Fine Food Reviews(NLP Project).ipynb",
      "provenance": [],
      "collapsed_sections": []
    },
    "kernelspec": {
      "name": "python3",
      "display_name": "Python 3"
    }
  },
  "cells": [
    {
      "cell_type": "markdown",
      "metadata": {
        "id": "IehGp0ix9e8o",
        "colab_type": "text"
      },
      "source": [
        "<center><h1> Amazon Fine Food Reviews Analysis</h1></center>"
      ]
    },
    {
      "cell_type": "markdown",
      "metadata": {
        "id": "OYs7OmbO9MyH",
        "colab_type": "text"
      },
      "source": [
        "## What Is Natural Language Processing?\n",
        "https://machinelearningmastery.com/natural-language-processing/"
      ]
    },
    {
      "cell_type": "markdown",
      "metadata": {
        "id": "X-cp_kAxCAY2",
        "colab_type": "text"
      },
      "source": [
        "\n",
        "### Data Source:\n",
        "https://www.kaggle.com/snap/amazon-fine-food-reviews <br>\n",
        "\n",
        "The Amazon Fine Food Reviews dataset consists of reviews of fine foods from Amazon.<br>\n",
        "\n",
        "Number of reviews: 568,454<br>\n",
        "Number of users: 256,059<br>\n",
        "Number of products: 74,258<br>\n",
        "Timespan: Oct 1999 - Oct 2012<br>\n",
        "Number of Attributes/Columns in data: 10 \n",
        "\n",
        "### Attribute Information:\n",
        "\n",
        "1. Id\n",
        "2. ProductId - unique identifier for the product\n",
        "3. UserId - unqiue identifier for the user\n",
        "4. ProfileName\n",
        "5. HelpfulnessNumerator - number of users who found the review helpful\n",
        "6. HelpfulnessDenominator - number of users who indicated whether they found the review helpful or not\n",
        "7. Score - rating between 1 and 5\n",
        "8. Time - timestamp for the review\n",
        "9. Summary - brief summary of the review\n",
        "10. Text - text of the review"
      ]
    },
    {
      "cell_type": "markdown",
      "metadata": {
        "id": "gQRxP48S8Vrj",
        "colab_type": "text"
      },
      "source": [
        "# Objective:\n",
        "Given a review, determine whether the review is positive (Rating of 4 or 5) or negative (rating of 1 or 2).\n",
        "\n",
        "<br>\n",
        "\n",
        "[Q] How to determine if a review is positive or negative?<br>\n",
        "[Ans:] We could use the Score/Rating. A rating of 4 or 5 could be cosnidered a positive review. A review of 1 or 2 could be considered negative. A review of 3 is nuetral and ignored. This is an approximate and proxy way of determining the polarity (positivity/negativity) of a review."
      ]
    },
    {
      "cell_type": "code",
      "metadata": {
        "id": "OjTTx4xf8Up1",
        "colab_type": "code",
        "colab": {}
      },
      "source": [
        ""
      ],
      "execution_count": 0,
      "outputs": []
    }
  ]
}